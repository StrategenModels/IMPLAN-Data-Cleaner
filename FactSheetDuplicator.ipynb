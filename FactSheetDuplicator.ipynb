{
 "cells": [
  {
   "cell_type": "code",
   "execution_count": null,
   "id": "51a77851-2389-469d-b5eb-ead58f005a02",
   "metadata": {},
   "outputs": [],
   "source": [
    "import os\n",
    "import pycountry\n",
    "from docx import Document\n",
    "\n",
    "# Function to duplicate the template and replace the placeholder with state name\n",
    "def duplicate_template_for_state(template_path, output_folder, state_name):\n",
    "    doc = Document(template_path)\n",
    "\n",
    "    # Replace the placeholder in the document with the state name\n",
    "    for paragraph in doc.paragraphs:\n",
    "        if '{STATE_NAME}' in paragraph.text:\n",
    "            paragraph.text = paragraph.text.replace('{STATE_NAME}', state_name)\n",
    "\n",
    "    # Save the modified document with a filename containing the state name\n",
    "    output_filename = os.path.join(output_folder, f\"{state_name}_FactSheet.docx\")\n",
    "    doc.save(output_filename)\n",
    "\n",
    "# Path to your template Word document (assuming it's in the same folder as the code)\n",
    "template_path = \"template_document.docx\"\n",
    "\n",
    "# Folder where you want to save the generated Fact Sheets for each state\n",
    "output_folder = \"output_folder_path\"\n",
    "\n",
    "# Get a list of all US states (excluding Connecticut and Massachusetts)\n",
    "us_states = [state.name for state in pycountry.subdivisions.get(country_code=\"US\") if state.name not in [\"Connecticut\", \"Massachusetts\"]]\n",
    "\n",
    "# Duplicate the template and replace the placeholder for each state\n",
    "for state_name in us_states:\n",
    "    duplicate_template_for_state(template_path, output_folder, state_name)\n"
   ]
  }
 ],
 "metadata": {
  "kernelspec": {
   "display_name": "Python 3 (ipykernel)",
   "language": "python",
   "name": "python3"
  },
  "language_info": {
   "codemirror_mode": {
    "name": "ipython",
    "version": 3
   },
   "file_extension": ".py",
   "mimetype": "text/x-python",
   "name": "python",
   "nbconvert_exporter": "python",
   "pygments_lexer": "ipython3",
   "version": "3.9.13"
  }
 },
 "nbformat": 4,
 "nbformat_minor": 5
}
